{
 "cells": [
  {
   "cell_type": "code",
   "execution_count": 10,
   "metadata": {},
   "outputs": [],
   "source": [
    "import pandas as pd\n",
    "from sklearn.datasets import fetch_openml\n",
    "import tensorflow as tf\n",
    "tf.compat.v1.enable_eager_execution()\n",
    "import keras\n",
    "import numpy as np\n",
    "import matplotlib.pyplot as plt\n",
    "from scipy.io import loadmat\n",
    "import os\n",
    "import urllib\n",
    "from sklearn.model_selection import train_test_split\n",
    "from sklearn.metrics import accuracy_score"
   ]
  },
  {
   "cell_type": "code",
   "execution_count": 4,
   "metadata": {},
   "outputs": [
    {
     "data": {
      "text/plain": [
       "((70000, 784), (14000, 784))"
      ]
     },
     "execution_count": 4,
     "metadata": {},
     "output_type": "execute_result"
    }
   ],
   "source": [
    "mnist = fetch_openml('mnist_784', version=1, as_frame=False)\n",
    "X, y = mnist.data, mnist.target.astype(np.int64)\n",
    "\n",
    "X_train, X_test, y_train, y_test = train_test_split(X, y, test_size=0.2, random_state=42)\n",
    "\n",
    "X.shape, X_test.shape"
   ]
  },
  {
   "cell_type": "code",
   "execution_count": 5,
   "metadata": {},
   "outputs": [],
   "source": [
    "# Função para calcular distâncias pareadas\n",
    "def pairwise_distances(x, y):\n",
    "    x_norm = tf.reduce_sum(tf.square(x), axis=1, keepdims=True)\n",
    "    y_norm = tf.reduce_sum(tf.square(y), axis=1, keepdims=True)\n",
    "    dists = x_norm - 2 * tf.matmul(x, y, transpose_b=True) + tf.transpose(y_norm)\n",
    "    return tf.sqrt(tf.maximum(dists, 0.0))  # Garantir que as distâncias não sejam negativas"
   ]
  },
  {
   "cell_type": "code",
   "execution_count": 12,
   "metadata": {},
   "outputs": [
    {
     "name": "stderr",
     "output_type": "stream",
     "text": [
      "2025-01-27 11:26:32.608684: I tensorflow/core/framework/local_rendezvous.cc:405] Local rendezvous is aborting with status: OUT_OF_RANGE: End of sequence\n"
     ]
    }
   ],
   "source": [
    "# Convertendo os dados para tensores TensorFlow\n",
    "tf_test = tf.convert_to_tensor(X_test, dtype=tf.float32)\n",
    "tf_train = tf.convert_to_tensor(X, dtype=tf.float32)\n",
    "\n",
    "# Criando o dataset com o tf.data\n",
    "ds = tf.data.Dataset.from_tensor_slices(tf_test).batch(1000)  # Definindo batch_size\n",
    "\n",
    "_min_dists = []\n",
    "_arg_min_dists = []\n",
    "\n",
    "# Criando o iterador do dataset\n",
    "iterator = iter(ds)\n",
    "\n",
    "while True:\n",
    "    try:\n",
    "        batch = next(iterator)  # Obtém o próximo batch\n",
    "        dists = pairwise_distances(tf_train, batch)\n",
    "        min_dist = tf.reduce_min(dists, axis=0)\n",
    "        arg_min_dist = tf.argmin(dists, axis=0)\n",
    "        _min_dists.append(min_dist)\n",
    "        _arg_min_dists.append(arg_min_dist)\n",
    "    except StopIteration:\n",
    "        break  # Sai do loop quando os dados acabam"
   ]
  },
  {
   "cell_type": "code",
   "execution_count": 13,
   "metadata": {},
   "outputs": [],
   "source": [
    "# Concatenando os resultados\n",
    "_min_dists = tf.concat(_min_dists, axis=0)\n",
    "_arg_min_dists = tf.concat(_arg_min_dists, axis=0)"
   ]
  },
  {
   "cell_type": "code",
   "execution_count": 14,
   "metadata": {},
   "outputs": [
    {
     "ename": "IndexError",
     "evalue": "index 56364 is out of bounds for axis 0 with size 56000",
     "output_type": "error",
     "traceback": [
      "\u001b[0;31m---------------------------------------------------------------------------\u001b[0m",
      "\u001b[0;31mIndexError\u001b[0m                                Traceback (most recent call last)",
      "Cell \u001b[0;32mIn[14], line 1\u001b[0m\n\u001b[0;32m----> 1\u001b[0m y_pred \u001b[38;5;241m=\u001b[39m \u001b[43my_train\u001b[49m\u001b[43m[\u001b[49m\u001b[43m_arg_min_dists\u001b[49m\u001b[43m]\u001b[49m\n\u001b[1;32m      3\u001b[0m \u001b[38;5;66;03m# Calculer l'accuracy\u001b[39;00m\n\u001b[1;32m      4\u001b[0m accuracy \u001b[38;5;241m=\u001b[39m accuracy_score(y_test, y_pred)\n",
      "\u001b[0;31mIndexError\u001b[0m: index 56364 is out of bounds for axis 0 with size 56000"
     ]
    }
   ],
   "source": [
    "y_pred = y_train[_arg_min_dists]\n",
    "\n",
    "# Calculer l'accuracy\n",
    "accuracy = accuracy_score(y_test, y_pred)"
   ]
  },
  {
   "cell_type": "code",
   "execution_count": null,
   "metadata": {},
   "outputs": [],
   "source": []
  }
 ],
 "metadata": {
  "kernelspec": {
   "display_name": "Python 3",
   "language": "python",
   "name": "python3"
  },
  "language_info": {
   "codemirror_mode": {
    "name": "ipython",
    "version": 3
   },
   "file_extension": ".py",
   "mimetype": "text/x-python",
   "name": "python",
   "nbconvert_exporter": "python",
   "pygments_lexer": "ipython3",
   "version": "3.10.0"
  }
 },
 "nbformat": 4,
 "nbformat_minor": 2
}
