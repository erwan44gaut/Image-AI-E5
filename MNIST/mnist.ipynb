{
 "cells": [
  {
   "cell_type": "markdown",
   "metadata": {},
   "source": [
    "# Modèle : MNIST\n",
    "\n",
    "groupe : \n",
    "- Tristan Nobre\n",
    "- Clément Zelter\n",
    "- Erwan Gautier\n",
    "- Mathieu Andriamiraho"
   ]
  },
  {
   "cell_type": "markdown",
   "metadata": {},
   "source": [
    "L'objectif de ce notebook est de relever un challenge en travaillant sur un dataset. Ici, nous utilisons le dataset MNIST, conçu par Yann LeCun. L'objectif principal du challenge est d'obtenir la meilleure précision (accuracy) possible. Pour y parvenir, nous avons mené de nombreux tests de manière empirique afin d'identifier le modèle le plus performant tout en évitant le surapprentissage."
   ]
  },
  {
   "cell_type": "markdown",
   "metadata": {},
   "source": [
    "### Importer toutes les bibliothèques nécessaires."
   ]
  },
  {
   "cell_type": "markdown",
   "metadata": {},
   "source": [
    "Afin de réaliser ce challenge, nous utilisons les bibliothèques standard pour la reconnaissance de caractéristiques sur des images :\n",
    "\n",
    "- `numpy` : pour la manipulation des tableaux de données et des opérations numériques.\n",
    "- `tensorflow` et `keras` : pour construire, entraîner et évaluer des modèles de deep learning.\n",
    "- `matplotlib.pyplot` : pour la visualisation des données, notamment l'affichage des images du dataset.\n",
    "- `sklearn.datasets.fetch_openml` : pour récupérer le dataset MNIST depuis OpenML.\n",
    "- `sklearn.model_selection.train_test_split` : pour diviser le dataset en ensembles d'entraînement et de test.\n",
    "- `sklearn.preprocessing.LabelBinarizer` : pour encoder les labels sous forme binaire, ce qui facilite l'entraînement du modèle."
   ]
  },
  {
   "cell_type": "code",
   "execution_count": 12,
   "metadata": {},
   "outputs": [],
   "source": [
    "import numpy as np\n",
    "import tensorflow as tf\n",
    "from tensorflow import keras\n",
    "import matplotlib.pyplot as plt\n",
    "from sklearn.datasets import fetch_openml\n",
    "from sklearn.model_selection import train_test_split\n",
    "from sklearn.preprocessing import LabelBinarizer"
   ]
  },
  {
   "cell_type": "markdown",
   "metadata": {},
   "source": [
    "### Charger l'ensemble de données MNIST "
   ]
  },
  {
   "cell_type": "markdown",
   "metadata": {},
   "source": [
    "MNIST étant un dataset très connu il est inclu dans la fonction `fetch_openml` de `sklearn.datasets`\n",
    "\n",
    "Nous normalisons les données en divisant par 255.0 afin de ramener les valeurs entre `0` et `1` pour faciliter l'entrainement du modèle\n",
    "\n",
    "Enfin on transforme chaque label (chiffre de 0 à 9) en un vecteur binaire de taille `10` permettant au modèle de mieux gérer la classification multi-classe"
   ]
  },
  {
   "cell_type": "code",
   "execution_count": 13,
   "metadata": {},
   "outputs": [],
   "source": [
    "mnist = fetch_openml('mnist_784', version=1)\n",
    "x, y = mnist.data / 255.0, mnist.target.astype(int)\n",
    "y = LabelBinarizer().fit_transform(y)  # One-hot encoding des labels"
   ]
  },
  {
   "cell_type": "markdown",
   "metadata": {},
   "source": [
    "### Séparation entre la formation et les tests"
   ]
  },
  {
   "cell_type": "markdown",
   "metadata": {},
   "source": [
    "De manière générale, il est recommandé, lorsqu'on dispose d'un seul dataset, de le diviser en deux parties : une pour l'entraînement et une pour les tests. Ici, nous utilisons un ratio de `20%` du dataset pour les tests, ce qui nous rappelle la loi de Pareto."
   ]
  },
  {
   "cell_type": "code",
   "execution_count": 14,
   "metadata": {},
   "outputs": [],
   "source": [
    "x_train, x_test, y_train, y_test = train_test_split(x, y, test_size=0.2, random_state=42)"
   ]
  },
  {
   "cell_type": "markdown",
   "metadata": {},
   "source": [
    "### Création du model "
   ]
  },
  {
   "cell_type": "markdown",
   "metadata": {},
   "source": [
    "La création du modèle est l'une des étapes les plus importantes de ce notebook. En effet, c'est l'architecture du réseau neuronal qui détermine ses performances. Vous remarquerez le commentaire 'Fourth model' au-dessus de l'affectation de la variable model. Il s'agit du quatrième modèle testé après de nombreuses recherches et expérimentations. Cette architecture a finalement été choisie comme la plus efficace pour traiter les images du dataset MNIST."
   ]
  },
  {
   "cell_type": "markdown",
   "metadata": {},
   "source": [
    "`TLDR` : \n",
    "- Ce modèle utilise **deux blocs convolutifs** suivis de normalisation et de pooling.  \n",
    "- Une phase **dense** finale permet d'exploiter les caractéristiques extraites.  \n",
    "- L'ajout de **Dropout et Batch Normalization** améliore la stabilité et réduit le surapprentissage.  \n",
    "- L'activation **softmax** en sortie permet la classification des images.  \n",
    "\n",
    "##### 1. **Couches Convolutives et Normalisation**\n",
    "- **`Conv2D(32, (3, 3), activation='relu', padding='same')`**  \n",
    "  → Première couche de convolution avec 32 filtres de taille 3×3.  \n",
    "  → `padding='same'` conserve la taille d'entrée.  \n",
    "  → Activation ReLU pour introduire la non-linéarité.  \n",
    "- **`BatchNormalization()`**  \n",
    "  → Normalisation pour stabiliser l'entraînement et accélérer la convergence.  \n",
    "- **Deuxième `Conv2D(32, (3, 3), activation='relu', padding='same')` + `BatchNormalization()`**  \n",
    "  → Ajout d'une deuxième convolution identique pour capturer plus de caractéristiques.  \n",
    "\n",
    "##### 2. **Réduction de Dimension et Régularisation**\n",
    "- **`MaxPooling2D((2, 2))`**  \n",
    "  → Réduction de la taille des feature maps par un facteur de 2.  \n",
    "- **`Dropout(0.25)`**  \n",
    "  → Désactivation aléatoire de 25 % des neurones pour éviter le surapprentissage.  \n",
    "\n",
    "##### 3. **Bloc Convolutif Profond**\n",
    "- **Deux couches `Conv2D(64, (3, 3), activation='relu', padding='same')` avec `BatchNormalization()`**  \n",
    "  → Augmente le nombre de filtres à 64 pour extraire des caractéristiques plus complexes.  \n",
    "- **`MaxPooling2D((2, 2))` + `Dropout(0.25)`**  \n",
    "  → Nouvelle réduction de dimension et régularisation.  \n",
    "\n",
    "##### 4. **Couches Denses et Classification**\n",
    "- **`Flatten()`**  \n",
    "  → Transforme les feature maps en un vecteur pour les couches denses.  \n",
    "- **`Dense(256, activation='relu')` + `BatchNormalization()` + `Dropout(0.5)`**  \n",
    "  → Ajoute une couche dense avec 256 neurones pour interpréter les caractéristiques.  \n",
    "  → `Dropout(0.5)` pour éviter le surapprentissage.  \n",
    "- **`Dense(10, activation='softmax')`**  \n",
    "  → Couche de sortie avec 10 neurones correspondant aux 10 classes de chiffres (0-9).  \n",
    "  → `softmax` génère des probabilités pour chaque classe.  \n"
   ]
  },
  {
   "cell_type": "code",
   "execution_count": null,
   "metadata": {},
   "outputs": [
    {
     "name": "stderr",
     "output_type": "stream",
     "text": [
      "/home/mathieu/code/mnist/.venv/lib/python3.10/site-packages/keras/src/layers/convolutional/base_conv.py:107: UserWarning: Do not pass an `input_shape`/`input_dim` argument to a layer. When using Sequential models, prefer using an `Input(shape)` object as the first layer in the model instead.\n",
      "  super().__init__(activity_regularizer=activity_regularizer, **kwargs)\n"
     ]
    }
   ],
   "source": [
    "# Fourth model\n",
    "model = keras.Sequential([\n",
    "    keras.layers.Conv2D(32, (3, 3), activation='relu', padding='same',\n",
    "                        input_shape=(28, 28, 1)),  # First convolutional layer\n",
    "    keras.layers.BatchNormalization(),  # Normalize activations\n",
    "\n",
    "    keras.layers.Conv2D(32, (3, 3), activation='relu', padding='same'),\n",
    "    keras.layers.BatchNormalization(),\n",
    "    keras.layers.MaxPooling2D((2, 2)),     # Downsample feature maps\n",
    "    keras.layers.Dropout(0.25),            # Prevent overfitting\n",
    "\n",
    "    keras.layers.Conv2D(64, (3, 3), activation='relu', padding='same'),\n",
    "    keras.layers.BatchNormalization(),\n",
    "    \n",
    "    keras.layers.Conv2D(64, (3, 3), activation='relu', padding='same'),\n",
    "    keras.layers.BatchNormalization(),\n",
    "    keras.layers.MaxPooling2D((2, 2)),\n",
    "    keras.layers.Dropout(0.25),\n",
    "\n",
    "    keras.layers.Flatten(),                # Flatten for the dense layers\n",
    "    keras.layers.Dense(256, activation='relu'),\n",
    "    keras.layers.BatchNormalization(),\n",
    "    keras.layers.Dropout(0.5),\n",
    "    keras.layers.Dense(10, activation='softmax')  # Output layer for 10 classes\n",
    "])"
   ]
  },
  {
   "cell_type": "code",
   "execution_count": 16,
   "metadata": {},
   "outputs": [],
   "source": [
    "x_train = np.array(x_train)\n",
    "x_test = np.array(x_test)\n",
    "\n",
    "x_train = x_train.reshape(-1, 28, 28, 1)\n",
    "x_test = x_test.reshape(-1, 28, 28, 1)\n",
    "\n",
    "x_train = x_train.astype('float32') / 255.0\n",
    "x_test = x_test.astype('float32') / 255.0"
   ]
  },
  {
   "cell_type": "markdown",
   "metadata": {},
   "source": [
    "### Compilation du model "
   ]
  },
  {
   "cell_type": "markdown",
   "metadata": {},
   "source": [
    "Il est ensuite nécessaire de compiler le modèle, ce qui définit la manière dont il sera configuré pour son entraînement. Pour cela, nous précisons plusieurs paramètres : l'optimiseur (`Adam`) avec un taux d'apprentissage de `0.001`, la fonction de perte (`categorical_crossentropy`), adaptée à la classification multi-classes, et enfin la métrique d'évaluation, ici accuracy, qui mesure la proportion de prédictions correctes. Pour une évaluation plus approfondie, il aurait également été intéressant d'utiliser le score `F1`."
   ]
  },
  {
   "cell_type": "markdown",
   "metadata": {},
   "source": [
    "On utilise des fonction de dit de callbacks qui auront différents utilisations :\n",
    "- la fonction `checkpoint` ici sauvegarde automatiquement le meilleur modèle en fonction de `val_accuracy` \n",
    "- on utilise de l'\"early stopping\" pour arrêter l'entrainement dans le cas le modèle ne s'améliore pas pendant 10 epochs\n",
    "- enfin on utilise une réduction du taux d'apprentissage afin d'améliorer la convergence"
   ]
  },
  {
   "cell_type": "code",
   "execution_count": 18,
   "metadata": {},
   "outputs": [],
   "source": [
    "checkpoint = keras.callbacks.ModelCheckpoint('best_model.keras', monitor='val_accuracy', save_best_only=True, mode='max')\n",
    "early_stopping = keras.callbacks.EarlyStopping(monitor='val_accuracy', patience=10, verbose=1, restore_best_weights=True)\n",
    "reduce_lr = keras.callbacks.ReduceLROnPlateau(\n",
    "    monitor='val_loss', factor=0.5, patience=5, verbose=1\n",
    ")"
   ]
  },
  {
   "cell_type": "code",
   "execution_count": 19,
   "metadata": {},
   "outputs": [],
   "source": [
    "model.compile(\n",
    "    optimizer=keras.optimizers.Adam(learning_rate=0.001),\n",
    "    loss='categorical_crossentropy',\n",
    "    metrics=[\n",
    "        'accuracy'\n",
    "    ]\n",
    ")"
   ]
  },
  {
   "cell_type": "markdown",
   "metadata": {},
   "source": [
    "### Entrainement du modèle avec 60 epochs"
   ]
  },
  {
   "cell_type": "markdown",
   "metadata": {},
   "source": [
    "Nous entraînons notre modèle sur un maximum arbitraire de 60 epochs. L'objectif est de trouver un équilibre : un nombre de cycles suffisant pour un apprentissage efficace, tout en évitant un surentraînement. Si le modèle atteint un point où l'entraînement devient inutile, la fonction Early Stopping interrompra automatiquement la boucle d'entraînement"
   ]
  },
  {
   "cell_type": "code",
   "execution_count": 20,
   "metadata": {},
   "outputs": [
    {
     "name": "stdout",
     "output_type": "stream",
     "text": [
      "Epoch 1/60\n",
      "\u001b[1m875/875\u001b[0m \u001b[32m━━━━━━━━━━━━━━━━━━━━\u001b[0m\u001b[37m\u001b[0m \u001b[1m84s\u001b[0m 94ms/step - accuracy: 0.8898 - loss: 0.3608 - val_accuracy: 0.9689 - val_loss: 0.0935 - learning_rate: 0.0010\n",
      "Epoch 2/60\n",
      "\u001b[1m875/875\u001b[0m \u001b[32m━━━━━━━━━━━━━━━━━━━━\u001b[0m\u001b[37m\u001b[0m \u001b[1m80s\u001b[0m 92ms/step - accuracy: 0.9790 - loss: 0.0657 - val_accuracy: 0.9857 - val_loss: 0.0420 - learning_rate: 0.0010\n",
      "Epoch 3/60\n",
      "\u001b[1m875/875\u001b[0m \u001b[32m━━━━━━━━━━━━━━━━━━━━\u001b[0m\u001b[37m\u001b[0m \u001b[1m82s\u001b[0m 94ms/step - accuracy: 0.9843 - loss: 0.0497 - val_accuracy: 0.9891 - val_loss: 0.0355 - learning_rate: 0.0010\n",
      "Epoch 4/60\n",
      "\u001b[1m875/875\u001b[0m \u001b[32m━━━━━━━━━━━━━━━━━━━━\u001b[0m\u001b[37m\u001b[0m \u001b[1m81s\u001b[0m 93ms/step - accuracy: 0.9867 - loss: 0.0415 - val_accuracy: 0.9825 - val_loss: 0.0567 - learning_rate: 0.0010\n",
      "Epoch 5/60\n",
      "\u001b[1m875/875\u001b[0m \u001b[32m━━━━━━━━━━━━━━━━━━━━\u001b[0m\u001b[37m\u001b[0m \u001b[1m81s\u001b[0m 93ms/step - accuracy: 0.9888 - loss: 0.0357 - val_accuracy: 0.9865 - val_loss: 0.0421 - learning_rate: 0.0010\n",
      "Epoch 6/60\n",
      "\u001b[1m875/875\u001b[0m \u001b[32m━━━━━━━━━━━━━━━━━━━━\u001b[0m\u001b[37m\u001b[0m \u001b[1m81s\u001b[0m 92ms/step - accuracy: 0.9897 - loss: 0.0324 - val_accuracy: 0.9701 - val_loss: 0.0860 - learning_rate: 0.0010\n",
      "Epoch 7/60\n",
      "\u001b[1m875/875\u001b[0m \u001b[32m━━━━━━━━━━━━━━━━━━━━\u001b[0m\u001b[37m\u001b[0m \u001b[1m82s\u001b[0m 93ms/step - accuracy: 0.9907 - loss: 0.0283 - val_accuracy: 0.9852 - val_loss: 0.0468 - learning_rate: 0.0010\n",
      "Epoch 8/60\n",
      "\u001b[1m875/875\u001b[0m \u001b[32m━━━━━━━━━━━━━━━━━━━━\u001b[0m\u001b[37m\u001b[0m \u001b[1m81s\u001b[0m 93ms/step - accuracy: 0.9913 - loss: 0.0255 - val_accuracy: 0.9921 - val_loss: 0.0230 - learning_rate: 0.0010\n",
      "Epoch 9/60\n",
      "\u001b[1m875/875\u001b[0m \u001b[32m━━━━━━━━━━━━━━━━━━━━\u001b[0m\u001b[37m\u001b[0m \u001b[1m81s\u001b[0m 92ms/step - accuracy: 0.9917 - loss: 0.0245 - val_accuracy: 0.9896 - val_loss: 0.0310 - learning_rate: 0.0010\n",
      "Epoch 10/60\n",
      "\u001b[1m875/875\u001b[0m \u001b[32m━━━━━━━━━━━━━━━━━━━━\u001b[0m\u001b[37m\u001b[0m \u001b[1m85s\u001b[0m 97ms/step - accuracy: 0.9932 - loss: 0.0200 - val_accuracy: 0.9927 - val_loss: 0.0228 - learning_rate: 0.0010\n",
      "Epoch 11/60\n",
      "\u001b[1m875/875\u001b[0m \u001b[32m━━━━━━━━━━━━━━━━━━━━\u001b[0m\u001b[37m\u001b[0m \u001b[1m85s\u001b[0m 98ms/step - accuracy: 0.9928 - loss: 0.0228 - val_accuracy: 0.9792 - val_loss: 0.1347 - learning_rate: 0.0010\n",
      "Epoch 12/60\n",
      "\u001b[1m875/875\u001b[0m \u001b[32m━━━━━━━━━━━━━━━━━━━━\u001b[0m\u001b[37m\u001b[0m \u001b[1m81s\u001b[0m 93ms/step - accuracy: 0.9937 - loss: 0.0191 - val_accuracy: 0.9836 - val_loss: 0.0615 - learning_rate: 0.0010\n",
      "Epoch 13/60\n",
      "\u001b[1m875/875\u001b[0m \u001b[32m━━━━━━━━━━━━━━━━━━━━\u001b[0m\u001b[37m\u001b[0m \u001b[1m80s\u001b[0m 92ms/step - accuracy: 0.9936 - loss: 0.0197 - val_accuracy: 0.9938 - val_loss: 0.0214 - learning_rate: 0.0010\n",
      "Epoch 14/60\n",
      "\u001b[1m875/875\u001b[0m \u001b[32m━━━━━━━━━━━━━━━━━━━━\u001b[0m\u001b[37m\u001b[0m \u001b[1m81s\u001b[0m 92ms/step - accuracy: 0.9942 - loss: 0.0191 - val_accuracy: 0.9928 - val_loss: 0.0231 - learning_rate: 0.0010\n",
      "Epoch 15/60\n",
      "\u001b[1m875/875\u001b[0m \u001b[32m━━━━━━━━━━━━━━━━━━━━\u001b[0m\u001b[37m\u001b[0m \u001b[1m80s\u001b[0m 92ms/step - accuracy: 0.9949 - loss: 0.0145 - val_accuracy: 0.9937 - val_loss: 0.0226 - learning_rate: 0.0010\n",
      "Epoch 16/60\n",
      "\u001b[1m875/875\u001b[0m \u001b[32m━━━━━━━━━━━━━━━━━━━━\u001b[0m\u001b[37m\u001b[0m \u001b[1m82s\u001b[0m 94ms/step - accuracy: 0.9956 - loss: 0.0134 - val_accuracy: 0.9916 - val_loss: 0.0314 - learning_rate: 0.0010\n",
      "Epoch 17/60\n",
      "\u001b[1m875/875\u001b[0m \u001b[32m━━━━━━━━━━━━━━━━━━━━\u001b[0m\u001b[37m\u001b[0m \u001b[1m81s\u001b[0m 92ms/step - accuracy: 0.9958 - loss: 0.0116 - val_accuracy: 0.9924 - val_loss: 0.0240 - learning_rate: 0.0010\n",
      "Epoch 18/60\n",
      "\u001b[1m875/875\u001b[0m \u001b[32m━━━━━━━━━━━━━━━━━━━━\u001b[0m\u001b[37m\u001b[0m \u001b[1m0s\u001b[0m 90ms/step - accuracy: 0.9962 - loss: 0.0116\n",
      "Epoch 18: ReduceLROnPlateau reducing learning rate to 0.0005000000237487257.\n",
      "\u001b[1m875/875\u001b[0m \u001b[32m━━━━━━━━━━━━━━━━━━━━\u001b[0m\u001b[37m\u001b[0m \u001b[1m82s\u001b[0m 93ms/step - accuracy: 0.9962 - loss: 0.0116 - val_accuracy: 0.9929 - val_loss: 0.0244 - learning_rate: 0.0010\n",
      "Epoch 19/60\n",
      "\u001b[1m875/875\u001b[0m \u001b[32m━━━━━━━━━━━━━━━━━━━━\u001b[0m\u001b[37m\u001b[0m \u001b[1m83s\u001b[0m 95ms/step - accuracy: 0.9971 - loss: 0.0085 - val_accuracy: 0.9906 - val_loss: 0.0497 - learning_rate: 5.0000e-04\n",
      "Epoch 20/60\n",
      "\u001b[1m875/875\u001b[0m \u001b[32m━━━━━━━━━━━━━━━━━━━━\u001b[0m\u001b[37m\u001b[0m \u001b[1m83s\u001b[0m 94ms/step - accuracy: 0.9977 - loss: 0.0065 - val_accuracy: 0.9952 - val_loss: 0.0158 - learning_rate: 5.0000e-04\n",
      "Epoch 21/60\n",
      "\u001b[1m875/875\u001b[0m \u001b[32m━━━━━━━━━━━━━━━━━━━━\u001b[0m\u001b[37m\u001b[0m \u001b[1m85s\u001b[0m 98ms/step - accuracy: 0.9976 - loss: 0.0073 - val_accuracy: 0.9786 - val_loss: 0.2408 - learning_rate: 5.0000e-04\n",
      "Epoch 22/60\n",
      "\u001b[1m875/875\u001b[0m \u001b[32m━━━━━━━━━━━━━━━━━━━━\u001b[0m\u001b[37m\u001b[0m \u001b[1m83s\u001b[0m 94ms/step - accuracy: 0.9979 - loss: 0.0077 - val_accuracy: 0.9950 - val_loss: 0.0184 - learning_rate: 5.0000e-04\n",
      "Epoch 23/60\n",
      "\u001b[1m875/875\u001b[0m \u001b[32m━━━━━━━━━━━━━━━━━━━━\u001b[0m\u001b[37m\u001b[0m \u001b[1m85s\u001b[0m 97ms/step - accuracy: 0.9983 - loss: 0.0053 - val_accuracy: 0.9936 - val_loss: 0.0247 - learning_rate: 5.0000e-04\n",
      "Epoch 24/60\n",
      "\u001b[1m875/875\u001b[0m \u001b[32m━━━━━━━━━━━━━━━━━━━━\u001b[0m\u001b[37m\u001b[0m \u001b[1m84s\u001b[0m 96ms/step - accuracy: 0.9980 - loss: 0.0061 - val_accuracy: 0.9814 - val_loss: 0.0723 - learning_rate: 5.0000e-04\n",
      "Epoch 25/60\n",
      "\u001b[1m875/875\u001b[0m \u001b[32m━━━━━━━━━━━━━━━━━━━━\u001b[0m\u001b[37m\u001b[0m \u001b[1m0s\u001b[0m 94ms/step - accuracy: 0.9984 - loss: 0.0057\n",
      "Epoch 25: ReduceLROnPlateau reducing learning rate to 0.0002500000118743628.\n",
      "\u001b[1m875/875\u001b[0m \u001b[32m━━━━━━━━━━━━━━━━━━━━\u001b[0m\u001b[37m\u001b[0m \u001b[1m85s\u001b[0m 97ms/step - accuracy: 0.9984 - loss: 0.0057 - val_accuracy: 0.9959 - val_loss: 0.0183 - learning_rate: 5.0000e-04\n",
      "Epoch 26/60\n",
      "\u001b[1m875/875\u001b[0m \u001b[32m━━━━━━━━━━━━━━━━━━━━\u001b[0m\u001b[37m\u001b[0m \u001b[1m84s\u001b[0m 96ms/step - accuracy: 0.9984 - loss: 0.0045 - val_accuracy: 0.9698 - val_loss: 0.1025 - learning_rate: 2.5000e-04\n",
      "Epoch 27/60\n",
      "\u001b[1m875/875\u001b[0m \u001b[32m━━━━━━━━━━━━━━━━━━━━\u001b[0m\u001b[37m\u001b[0m \u001b[1m84s\u001b[0m 96ms/step - accuracy: 0.9984 - loss: 0.0050 - val_accuracy: 0.9954 - val_loss: 0.0168 - learning_rate: 2.5000e-04\n",
      "Epoch 28/60\n",
      "\u001b[1m875/875\u001b[0m \u001b[32m━━━━━━━━━━━━━━━━━━━━\u001b[0m\u001b[37m\u001b[0m \u001b[1m84s\u001b[0m 96ms/step - accuracy: 0.9990 - loss: 0.0033 - val_accuracy: 0.9946 - val_loss: 0.0241 - learning_rate: 2.5000e-04\n",
      "Epoch 29/60\n",
      "\u001b[1m875/875\u001b[0m \u001b[32m━━━━━━━━━━━━━━━━━━━━\u001b[0m\u001b[37m\u001b[0m \u001b[1m85s\u001b[0m 97ms/step - accuracy: 0.9992 - loss: 0.0025 - val_accuracy: 0.9873 - val_loss: 0.0478 - learning_rate: 2.5000e-04\n",
      "Epoch 30/60\n",
      "\u001b[1m875/875\u001b[0m \u001b[32m━━━━━━━━━━━━━━━━━━━━\u001b[0m\u001b[37m\u001b[0m \u001b[1m0s\u001b[0m 93ms/step - accuracy: 0.9991 - loss: 0.0030\n",
      "Epoch 30: ReduceLROnPlateau reducing learning rate to 0.0001250000059371814.\n",
      "\u001b[1m875/875\u001b[0m \u001b[32m━━━━━━━━━━━━━━━━━━━━\u001b[0m\u001b[37m\u001b[0m \u001b[1m84s\u001b[0m 96ms/step - accuracy: 0.9991 - loss: 0.0030 - val_accuracy: 0.9944 - val_loss: 0.0191 - learning_rate: 2.5000e-04\n",
      "Epoch 31/60\n",
      "\u001b[1m875/875\u001b[0m \u001b[32m━━━━━━━━━━━━━━━━━━━━\u001b[0m\u001b[37m\u001b[0m \u001b[1m84s\u001b[0m 96ms/step - accuracy: 0.9991 - loss: 0.0028 - val_accuracy: 0.9944 - val_loss: 0.0196 - learning_rate: 1.2500e-04\n",
      "Epoch 32/60\n",
      "\u001b[1m875/875\u001b[0m \u001b[32m━━━━━━━━━━━━━━━━━━━━\u001b[0m\u001b[37m\u001b[0m \u001b[1m89s\u001b[0m 101ms/step - accuracy: 0.9992 - loss: 0.0023 - val_accuracy: 0.9952 - val_loss: 0.0225 - learning_rate: 1.2500e-04\n",
      "Epoch 33/60\n",
      "\u001b[1m875/875\u001b[0m \u001b[32m━━━━━━━━━━━━━━━━━━━━\u001b[0m\u001b[37m\u001b[0m \u001b[1m91s\u001b[0m 103ms/step - accuracy: 0.9991 - loss: 0.0025 - val_accuracy: 0.9951 - val_loss: 0.0203 - learning_rate: 1.2500e-04\n",
      "Epoch 34/60\n",
      "\u001b[1m875/875\u001b[0m \u001b[32m━━━━━━━━━━━━━━━━━━━━\u001b[0m\u001b[37m\u001b[0m \u001b[1m91s\u001b[0m 104ms/step - accuracy: 0.9993 - loss: 0.0021 - val_accuracy: 0.9951 - val_loss: 0.0200 - learning_rate: 1.2500e-04\n",
      "Epoch 35/60\n",
      "\u001b[1m875/875\u001b[0m \u001b[32m━━━━━━━━━━━━━━━━━━━━\u001b[0m\u001b[37m\u001b[0m \u001b[1m0s\u001b[0m 99ms/step - accuracy: 0.9994 - loss: 0.0020\n",
      "Epoch 35: ReduceLROnPlateau reducing learning rate to 6.25000029685907e-05.\n",
      "\u001b[1m875/875\u001b[0m \u001b[32m━━━━━━━━━━━━━━━━━━━━\u001b[0m\u001b[37m\u001b[0m \u001b[1m89s\u001b[0m 102ms/step - accuracy: 0.9994 - loss: 0.0020 - val_accuracy: 0.9950 - val_loss: 0.0228 - learning_rate: 1.2500e-04\n",
      "Epoch 35: early stopping\n",
      "Restoring model weights from the end of the best epoch: 25.\n"
     ]
    }
   ],
   "source": [
    "history = model.fit(\n",
    "    x_train, y_train,\n",
    "    epochs=60,\n",
    "    batch_size=64,\n",
    "    validation_data=(x_test, y_test),\n",
    "    callbacks=[checkpoint, early_stopping, reduce_lr],\n",
    "    verbose=1\n",
    ")"
   ]
  },
  {
   "cell_type": "markdown",
   "metadata": {},
   "source": [
    "### Loading the best weights"
   ]
  },
  {
   "cell_type": "markdown",
   "metadata": {},
   "source": [
    "On enregistre le modèle afin de réutiliser les poids du modèle pour une réutilisation probable"
   ]
  },
  {
   "cell_type": "code",
   "execution_count": 21,
   "metadata": {},
   "outputs": [],
   "source": [
    "model.load_weights('best_model.keras')"
   ]
  },
  {
   "cell_type": "markdown",
   "metadata": {},
   "source": [
    "### Evaluation\n"
   ]
  },
  {
   "cell_type": "markdown",
   "metadata": {},
   "source": [
    "On utilise alors nos données de tests afin de mesurer la précision de notre modèle créé précédemment."
   ]
  },
  {
   "cell_type": "code",
   "execution_count": 24,
   "metadata": {},
   "outputs": [
    {
     "name": "stdout",
     "output_type": "stream",
     "text": [
      "\u001b[1m438/438\u001b[0m \u001b[32m━━━━━━━━━━━━━━━━━━━━\u001b[0m\u001b[37m\u001b[0m \u001b[1m4s\u001b[0m 10ms/step - accuracy: 0.9955 - loss: 0.0197\n",
      "Accuracy sur le test set : 99.59%\n"
     ]
    }
   ],
   "source": [
    "loss, accuracy = model.evaluate(x_test, y_test)\n",
    "print(f'Accuracy sur le test set : {accuracy * 100:.2f}%')"
   ]
  },
  {
   "cell_type": "markdown",
   "metadata": {},
   "source": [
    "### Affichage des courbes d'apprentissage"
   ]
  },
  {
   "cell_type": "code",
   "execution_count": 23,
   "metadata": {},
   "outputs": [
    {
     "data": {
      "image/png": "[encoded data removed]",
      "text/plain": [
       "<Figure size 640x480 with 1 Axes>"
      ]
     },
     "metadata": {},
     "output_type": "display_data"
    }
   ],
   "source": [
    "plt.plot(history.history['accuracy'], label='Train Accuracy')\n",
    "plt.plot(history.history['val_accuracy'], label='Validation Accuracy')\n",
    "plt.xlabel('Épochs')\n",
    "plt.ylabel('Accuracy')\n",
    "plt.legend(\"Accuracy\")\n",
    "plt.title('Évolution de l\\'accuracy')\n",
    "plt.show()\n"
   ]
  },
  {
   "cell_type": "markdown",
   "metadata": {},
   "source": [
    "### Conclusion"
   ]
  },
  {
   "cell_type": "markdown",
   "metadata": {},
   "source": [
    "**Premier modèle**\n",
    "\n",
    "Le premier modèle consiste en une architecture simple utilisant uniquement des couches Dense, avec un taux d’apprentissage de 0.001. En pratique, ce modèle fonctionne plutôt bien et atteint 97,40 % de précision lors des tests.\n",
    "\n",
    "```py\n",
    "model = keras.Sequential([\n",
    "    keras.layers.Dense(512, activation='relu', input_shape=(784,)),\n",
    "    keras.layers.Dense(256, activation='relu'),\n",
    "    keras.layers.Dense(128, activation='relu'),\n",
    "    keras.layers.Dense(64, activation='relu'),\n",
    "    keras.layers.Dense(32, activation='relu'),\n",
    "    keras.layers.Dense(10, activation='softmax')\n",
    "])\n",
    "```\n",
    "\n",
    "**Deuxième modèle**\n",
    "\n",
    "Le deuxième modèle est une itération du précédent. Nous ajoutons ici une couche Conv2D, qui est une couche de convolution particulièrement performante pour la classification d’images.\n",
    "\n",
    "```py\n",
    "model = keras.Sequential([\n",
    "    keras.layers.Conv2D(32, (3,3), activation='relu', input_shape=(28,28,1)),\n",
    "    keras.layers.MaxPooling2D(2,2),\n",
    "    keras.layers.Conv2D(64, (3,3), activation='relu'),\n",
    "    keras.layers.MaxPooling2D(2,2),\n",
    "    keras.layers.Flatten(),\n",
    "    keras.layers.Dense(128, activation='relu'),\n",
    "    keras.layers.Dense(10, activation='softmax')\n",
    "])\n",
    "```\n",
    "\n",
    "Nous réduisons également le taux d’apprentissage à 0.0001, ce qui permet un apprentissage plus lent mais plus approfondi. Avec cette architecture, nous atteignons 98,50 % de précision lors des tests.\n",
    "\n",
    "**Troisième modèle**\n",
    "\n",
    "Pour le troisième modèle, nous avons testé une architecture composée uniquement de couches Conv2D. L’idée était simple : si les convolutions améliorent déjà les performances, pourquoi ne pas les appliquer à toutes les couches du réseau ?\n",
    "\n",
    "```py\n",
    "model = keras.Sequential([\n",
    "    keras.layers.Conv2D(32, (3,3), activation='relu', padding='same', input_shape=(28,28,1)),\n",
    "    keras.layers.Conv2D(64, (3,3), activation='relu', padding='same'),\n",
    "    keras.layers.Conv2D(128, (3,3), activation='relu', padding='same'),\n",
    "    keras.layers.GlobalAveragePooling2D(),  # Réduction des dimensions\n",
    "    keras.layers.Dense(10, activation='softmax')  # Classification finale\n",
    "])\n",
    "```\n",
    "\n",
    "Après un entraînement long (plus de 30 minutes), nous avons constaté que la précision obtenue sur le même test était de 80,22 %, ce qui est inférieur aux modèles précédents.\n",
    "\n",
    "**Quatrième modèle**\n",
    "\n",
    "Le quatrième modèle dont le processus de création à été décrit plutôt est le modèle dont la précision est la plus haute (99.59%). Ainsi, on lui décernera le titre de modèle légitime."
   ]
  }
 ],
 "metadata": {
  "kernelspec": {
   "display_name": ".venv",
   "language": "python",
   "name": "python3"
  },
  "language_info": {
   "codemirror_mode": {
    "name": "ipython",
    "version": 3
   },
   "file_extension": ".py",
   "mimetype": "text/x-python",
   "name": "python",
   "nbconvert_exporter": "python",
   "pygments_lexer": "ipython3",
   "version": "3.10.16"
  }
 },
 "nbformat": 4,
 "nbformat_minor": 2
}
